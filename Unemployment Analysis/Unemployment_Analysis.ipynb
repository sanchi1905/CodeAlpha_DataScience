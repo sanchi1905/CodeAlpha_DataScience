{
 "cells": [
  {
   "cell_type": "code",
   "execution_count": null,
   "id": "e716555e",
   "metadata": {},
   "outputs": [],
   "source": [
    "import pandas as pd\n",
    "import numpy as np\n",
    "import matplotlib.pyplot as plt\n",
    "import seaborn as sns\n",
    "\n",
    "df = pd.read_csv('Unemployment_Rate_upto_11_2020.csv')\n",
    "\n",
    "print(df.head())\n",
    "print(df.info())\n",
    "print(df.describe())"
   ]
  },
  {
   "cell_type": "code",
   "execution_count": null,
   "id": "d1a8e7a6",
   "metadata": {},
   "outputs": [],
   "source": [
    "# Clean column names\n",
    "df.columns = ['Region', 'Date', 'Frequency', 'Estimated Unemployment Rate', 'Estimated Employed', 'Estimated Labour Participation Rate', 'Region.Name', 'longitude', 'latitude']\n",
    "\n",
    "# Convert Date to datetime\n",
    "df['Date'] = pd.to_datetime(df['Date'], dayfirst=True)\n",
    "\n",
    "# Clean Frequency column\n",
    "df['Frequency'] = df['Frequency'].str.strip()\n",
    "\n",
    "print(df.head())\n",
    "print(df.info())"
   ]
  },
  {
   "cell_type": "code",
   "execution_count": null,
   "id": "a9e3a22a",
   "metadata": {},
   "outputs": [],
   "source": [
    "# Visualize unemployment rate over time\n",
    "plt.figure(figsize=(12, 6))\n",
    "sns.lineplot(x='Date', y='Estimated Unemployment Rate', data=df)\n",
    "plt.title('Unemployment Rate Over Time')\n",
    "plt.xlabel('Date')\n",
    "plt.ylabel('Estimated Unemployment Rate')\n",
    "plt.savefig('unemployment_rate_over_time.png')"
   ]
  },
  {
   "cell_type": "code",
   "execution_count": null,
   "id": "b2d2a2e2",
   "metadata": {},
   "outputs": [],
   "source": [
    "# Visualize unemployment rate by state\n",
    "plt.figure(figsize=(12, 8))\n",
    "sns.boxplot(x='Region', y='Estimated Unemployment Rate', data=df)\n",
    "plt.xticks(rotation=90)\n",
    "plt.title('Unemployment Rate by State')\n",
    "plt.xlabel('State')\n",
    "plt.ylabel('Estimated Unemployment Rate')\n",
    "plt.savefig('unemployment_rate_by_state.png')"
   ]
  }
 ],
 "metadata": {
  "language_info": {
   "name": "python"
  }
 },
 "nbformat": 4,
 "nbformat_minor": 5
}
